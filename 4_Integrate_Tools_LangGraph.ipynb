{
  "nbformat": 4,
  "nbformat_minor": 0,
  "metadata": {
    "colab": {
      "provenance": [],
      "authorship_tag": "ABX9TyMomud+ek7qnqE3MGcTQyAP",
      "include_colab_link": true
    },
    "kernelspec": {
      "name": "python3",
      "display_name": "Python 3"
    },
    "language_info": {
      "name": "python"
    }
  },
  "cells": [
    {
      "cell_type": "markdown",
      "metadata": {
        "id": "view-in-github",
        "colab_type": "text"
      },
      "source": [
        "<a href=\"https://colab.research.google.com/github/Vinayak-Sharma12/LangGraph/blob/main/4_Integrate_Tools_LangGraph.ipynb\" target=\"_parent\"><img src=\"https://colab.research.google.com/assets/colab-badge.svg\" alt=\"Open In Colab\"/></a>"
      ]
    },
    {
      "cell_type": "markdown",
      "source": [
        "# **STEPS TO INTEGRATE TOOLS WITH LangGraph**\n",
        "\n",
        "\n",
        "1.  CREATE STATE\n",
        "2.  CREATE TOOL\n",
        "3.  BIND TOOL WITH LLM\n",
        "4.  CREATE A NODE OF LLM_WITH_TOOL(state:State)\n",
        "5.  Add Tool(as Node) to Graph Using ToolNode ==> name your always as tools\n",
        "5.  Add TOOL EDGE as Conditional Edge using tools_condition\n",
        "\n",
        "\n",
        "\n"
      ],
      "metadata": {
        "id": "-BpUmYs10jJE"
      }
    },
    {
      "cell_type": "code",
      "execution_count": 9,
      "metadata": {
        "colab": {
          "base_uri": "https://localhost:8080/"
        },
        "id": "cvJUSuiVnkvD",
        "outputId": "081dcdff-69a8-40b1-ab10-36f685114fc8"
      },
      "outputs": [
        {
          "output_type": "stream",
          "name": "stdout",
          "text": [
            "\u001b[?25l   \u001b[90m━━━━━━━━━━━━━━━━━━━━━━━━━━━━━━━━━━━━━━━━\u001b[0m \u001b[32m0.0/127.5 kB\u001b[0m \u001b[31m?\u001b[0m eta \u001b[36m-:--:--\u001b[0m\r\u001b[2K   \u001b[90m━━━━━━━━━━━━━━━━━━━━━━━━━━━━━━━━━━━━━━━━\u001b[0m \u001b[32m127.5/127.5 kB\u001b[0m \u001b[31m5.5 MB/s\u001b[0m eta \u001b[36m0:00:00\u001b[0m\n",
            "\u001b[?25h"
          ]
        }
      ],
      "source": [
        "!pip install -q langgraph langchain_groq"
      ]
    },
    {
      "cell_type": "code",
      "source": [
        "from IPython.display import Image, display\n",
        "display(Image(graph.get_graph().draw_mermaid_png()))"
      ],
      "metadata": {
        "colab": {
          "base_uri": "https://localhost:8080/",
          "height": 350
        },
        "id": "hZIJKhggvrVi",
        "outputId": "d8697606-d069-499b-b339-0479e274a7e9"
      },
      "execution_count": 27,
      "outputs": [
        {
          "output_type": "display_data",
          "data": {
            "image/png": "[encoded data removed]",
            "text/plain": [
              "<IPython.core.display.Image object>"
            ]
          },
          "metadata": {}
        }
      ]
    },
    {
      "cell_type": "markdown",
      "source": [
        "### **STATE**"
      ],
      "metadata": {
        "id": "DhH724Bhn3uj"
      }
    },
    {
      "cell_type": "code",
      "source": [
        "from typing_extensions import TypedDict\n",
        "from typing import Annotated\n",
        "from langgraph.graph import add_messages"
      ],
      "metadata": {
        "id": "vW1rwUAVn6AX"
      },
      "execution_count": 35,
      "outputs": []
    },
    {
      "cell_type": "code",
      "source": [
        "class State(TypedDict):\n",
        "  messages:Annotated[list,add_messages] #Annotated basically labels the message as AI or Human\n",
        "                                        # add_messages appends message in the list\n"
      ],
      "metadata": {
        "id": "e72xTTAun__5"
      },
      "execution_count": 36,
      "outputs": []
    },
    {
      "cell_type": "markdown",
      "source": [
        "### **TOOL**"
      ],
      "metadata": {
        "id": "AOqOolO9pMOd"
      }
    },
    {
      "cell_type": "code",
      "source": [
        "def add(a:int,b:int)->int:\n",
        "  \"\"\"Adds two number\"\"\"\n",
        "  return a+b"
      ],
      "metadata": {
        "id": "iDri0u5MpPb8"
      },
      "execution_count": 38,
      "outputs": []
    },
    {
      "cell_type": "markdown",
      "source": [
        "## **BINDING TOOL WITH LLM**"
      ],
      "metadata": {
        "id": "osYyUBYypjCm"
      }
    },
    {
      "cell_type": "code",
      "source": [
        "from langchain_groq import ChatGroq\n",
        "llm=ChatGroq(model=\"llama-3.1-8b-instant\",api_key='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')"
      ],
      "metadata": {
        "id": "w_15fX_tplzb"
      },
      "execution_count": 39,
      "outputs": []
    },
    {
      "cell_type": "code",
      "source": [
        "llm_with_tool=llm.bind_tools([add])"
      ],
      "metadata": {
        "id": "Mpdu7P8mp4P3"
      },
      "execution_count": 40,
      "outputs": []
    },
    {
      "cell_type": "markdown",
      "source": [
        "## **CREATE NODE(FOR llm_with_tool)**"
      ],
      "metadata": {
        "id": "xnuhshXQycip"
      }
    },
    {
      "cell_type": "code",
      "source": [
        "def llm_tool(state:State):\n",
        "  return {\"messages\":llm_with_tool.invoke(state['messages'])}"
      ],
      "metadata": {
        "id": "FA0qZD0AyjG-"
      },
      "execution_count": 48,
      "outputs": []
    },
    {
      "cell_type": "markdown",
      "source": [
        "## **GRAPH**"
      ],
      "metadata": {
        "id": "CysayZu0qArd"
      }
    },
    {
      "cell_type": "markdown",
      "source": [
        "tools_conditions=> return tools or END (so name your node as tools)\n",
        "\n"
      ],
      "metadata": {
        "id": "_f-y2Tfou63b"
      }
    },
    {
      "cell_type": "code",
      "source": [
        "from langgraph.graph import StateGraph,START,END\n",
        "from langgraph.prebuilt import ToolNode,tools_condition\n",
        "\n",
        "builder=StateGraph(State)\n",
        "\n",
        "#ADD NODE\n",
        "builder.add_node(\"llm_tool\",llm_tool)\n",
        "builder.add_node(\"tools\",ToolNode([add])) #Adding Tool to the Graph\n",
        "\n",
        "#ADD EDGES\n",
        "builder.add_edge(START,\"llm_tool\")\n",
        "builder.add_conditional_edges(\"llm_tool\",tools_condition) # tools_condition checks the latest message\n",
        "                                                                # if it is tool call it routes to tool\n",
        "                                                                # else route to end\n",
        "builder.add_edge(\"tools\",END)\n",
        "\n",
        "#Compile\n",
        "graph=builder.compile()\n"
      ],
      "metadata": {
        "id": "WiFuhy6nqSSB"
      },
      "execution_count": 49,
      "outputs": []
    },
    {
      "cell_type": "code",
      "source": [
        "from IPython.display import Image, display\n",
        "display(Image(graph.get_graph().draw_mermaid_png()))"
      ],
      "metadata": {
        "colab": {
          "base_uri": "https://localhost:8080/",
          "height": 350
        },
        "id": "MTaA0H2ovdJc",
        "outputId": "f800fd70-b4c0-4664-97dc-5f072f46cbd1"
      },
      "execution_count": 50,
      "outputs": [
        {
          "output_type": "display_data",
          "data": {
            "image/png": "[encoded data removed]",
            "text/plain": [
              "<IPython.core.display.Image object>"
            ]
          },
          "metadata": {}
        }
      ]
    },
    {
      "cell_type": "code",
      "source": [
        "result=graph.invoke({\"messages\":\"What is 2 plus 9 \"})\n",
        "print(result)"
      ],
      "metadata": {
        "colab": {
          "base_uri": "https://localhost:8080/"
        },
        "id": "S3AYIwGsvvHM",
        "outputId": "bc3486c7-efc8-485a-cdcc-2e8ea5c149dc"
      },
      "execution_count": 58,
      "outputs": [
        {
          "output_type": "stream",
          "name": "stdout",
          "text": [
            "{'messages': [HumanMessage(content='What is 2 plus 9 ', additional_kwargs={}, response_metadata={}, id='84884d44-c4b9-4e51-aebd-84bd413e6314'), AIMessage(content='', additional_kwargs={'tool_calls': [{'id': 'call_ertn', 'function': {'arguments': '{\"a\": 2, \"b\": 9}', 'name': 'add'}, 'type': 'function'}]}, response_metadata={'token_usage': {'completion_tokens': 18, 'prompt_tokens': 220, 'total_tokens': 238, 'completion_time': 0.024, 'prompt_time': 0.040556018, 'queue_time': 0.6155381670000001, 'total_time': 0.064556018}, 'model_name': 'llama-3.1-8b-instant', 'system_fingerprint': 'fp_8d1c73bd4c', 'finish_reason': 'tool_calls', 'logprobs': None}, id='run--ab277f91-f599-4faf-be33-0cda01c76150-0', tool_calls=[{'name': 'add', 'args': {'a': 2, 'b': 9}, 'id': 'call_ertn', 'type': 'tool_call'}], usage_metadata={'input_tokens': 220, 'output_tokens': 18, 'total_tokens': 238}), ToolMessage(content='11', name='add', id='1b2e4bd5-d176-4872-a9f6-8ca111d92e17', tool_call_id='call_ertn')]}\n"
          ]
        }
      ]
    },
    {
      "cell_type": "code",
      "source": [
        "print(result['messages'][-1].content)"
      ],
      "metadata": {
        "colab": {
          "base_uri": "https://localhost:8080/"
        },
        "id": "0u3P-yFtzjsI",
        "outputId": "e247bcbc-f39e-4f8a-9139-da8fa1244305"
      },
      "execution_count": 65,
      "outputs": [
        {
          "output_type": "stream",
          "name": "stdout",
          "text": [
            "11\n"
          ]
        }
      ]
    },
    {
      "cell_type": "code",
      "source": [
        "result=graph.invoke({\"messages\":\"tell me something about Machine Learning\"})"
      ],
      "metadata": {
        "id": "Ab0H4L_Iz51T"
      },
      "execution_count": 73,
      "outputs": []
    },
    {
      "cell_type": "code",
      "source": [
        "result"
      ],
      "metadata": {
        "colab": {
          "base_uri": "https://localhost:8080/"
        },
        "id": "yg20djlL0Hsh",
        "outputId": "88dfb37c-c73f-463c-bf3a-c6d3602e3cde"
      },
      "execution_count": 74,
      "outputs": [
        {
          "output_type": "execute_result",
          "data": {
            "text/plain": [
              "{'messages': [HumanMessage(content='tell me something about Machine Learning', additional_kwargs={}, response_metadata={}, id='a870b0fd-6678-4572-9ada-6a6669e70af4'),\n",
              "  AIMessage(content='Machine learning is a subset of artificial intelligence that involves the use of algorithms and statistical models to enable machines to learn from data, make decisions, and improve their performance over time.', additional_kwargs={}, response_metadata={'token_usage': {'completion_tokens': 36, 'prompt_tokens': 218, 'total_tokens': 254, 'completion_time': 0.048, 'prompt_time': 0.021576411, 'queue_time': 0.228508521, 'total_time': 0.069576411}, 'model_name': 'llama-3.1-8b-instant', 'system_fingerprint': 'fp_a4265e44d5', 'finish_reason': 'stop', 'logprobs': None}, id='run--11783e9c-3589-4c09-a283-eae8fcaa9336-0', usage_metadata={'input_tokens': 218, 'output_tokens': 36, 'total_tokens': 254})]}"
            ]
          },
          "metadata": {},
          "execution_count": 74
        }
      ]
    },
    {
      "cell_type": "code",
      "source": [
        "print(result['messages'][-1].content)"
      ],
      "metadata": {
        "colab": {
          "base_uri": "https://localhost:8080/"
        },
        "id": "QCGWmbUJ0ERh",
        "outputId": "3269a714-740e-4770-9ac4-ff17c46f21b8"
      },
      "execution_count": 75,
      "outputs": [
        {
          "output_type": "stream",
          "name": "stdout",
          "text": [
            "Machine learning is a subset of artificial intelligence that involves the use of algorithms and statistical models to enable machines to learn from data, make decisions, and improve their performance over time.\n"
          ]
        }
      ]
    }
  ]
}