{
  "nbformat": 4,
  "nbformat_minor": 0,
  "metadata": {
    "colab": {
      "provenance": [],
      "authorship_tag": "ABX9TyPDvJdziw7MKlUa76NJCutT",
      "include_colab_link": true
    },
    "kernelspec": {
      "name": "python3",
      "display_name": "Python 3"
    },
    "language_info": {
      "name": "python"
    }
  },
  "cells": [
    {
      "cell_type": "markdown",
      "metadata": {
        "id": "view-in-github",
        "colab_type": "text"
      },
      "source": [
        "<a href=\"https://colab.research.google.com/github/Vinayak-Sharma12/LangGraph/blob/main/6_ReAct_Agent_.ipynb\" target=\"_parent\"><img src=\"https://colab.research.google.com/assets/colab-badge.svg\" alt=\"Open In Colab\"/></a>"
      ]
    },
    {
      "cell_type": "markdown",
      "source": [
        "# **ReAct- ReAct is basically an architecture in which connect tool reponse back to llm**"
      ],
      "metadata": {
        "id": "bd7JM4atxFvK"
      }
    },
    {
      "cell_type": "code",
      "execution_count": 1,
      "metadata": {
        "colab": {
          "base_uri": "https://localhost:8080/"
        },
        "id": "uaO4UtXHwq_n",
        "outputId": "32c108e1-f01c-4da7-a0f8-659f5a4bd627"
      },
      "outputs": [
        {
          "output_type": "stream",
          "name": "stdout",
          "text": [
            "\u001b[2K     \u001b[90m━━━━━━━━━━━━━━━━━━━━━━━━━━━━━━━━━━━━━━━━\u001b[0m \u001b[32m43.7/43.7 kB\u001b[0m \u001b[31m3.4 MB/s\u001b[0m eta \u001b[36m0:00:00\u001b[0m\n",
            "\u001b[2K   \u001b[90m━━━━━━━━━━━━━━━━━━━━━━━━━━━━━━━━━━━━━━━━\u001b[0m \u001b[32m154.9/154.9 kB\u001b[0m \u001b[31m7.0 MB/s\u001b[0m eta \u001b[36m0:00:00\u001b[0m\n",
            "\u001b[2K   \u001b[90m━━━━━━━━━━━━━━━━━━━━━━━━━━━━━━━━━━━━━━━━\u001b[0m \u001b[32m2.5/2.5 MB\u001b[0m \u001b[31m47.1 MB/s\u001b[0m eta \u001b[36m0:00:00\u001b[0m\n",
            "\u001b[2K   \u001b[90m━━━━━━━━━━━━━━━━━━━━━━━━━━━━━━━━━━━━━━━━\u001b[0m \u001b[32m129.6/129.6 kB\u001b[0m \u001b[31m11.9 MB/s\u001b[0m eta \u001b[36m0:00:00\u001b[0m\n",
            "\u001b[2K   \u001b[90m━━━━━━━━━━━━━━━━━━━━━━━━━━━━━━━━━━━━━━━━\u001b[0m \u001b[32m44.2/44.2 kB\u001b[0m \u001b[31m3.5 MB/s\u001b[0m eta \u001b[36m0:00:00\u001b[0m\n",
            "\u001b[2K   \u001b[90m━━━━━━━━━━━━━━━━━━━━━━━━━━━━━━━━━━━━━━━━\u001b[0m \u001b[32m50.0/50.0 kB\u001b[0m \u001b[31m4.2 MB/s\u001b[0m eta \u001b[36m0:00:00\u001b[0m\n",
            "\u001b[2K   \u001b[90m━━━━━━━━━━━━━━━━━━━━━━━━━━━━━━━━━━━━━━━━\u001b[0m \u001b[32m44.4/44.4 kB\u001b[0m \u001b[31m3.1 MB/s\u001b[0m eta \u001b[36m0:00:00\u001b[0m\n",
            "\u001b[2K   \u001b[90m━━━━━━━━━━━━━━━━━━━━━━━━━━━━━━━━━━━━━━━━\u001b[0m \u001b[32m50.9/50.9 kB\u001b[0m \u001b[31m3.9 MB/s\u001b[0m eta \u001b[36m0:00:00\u001b[0m\n",
            "\u001b[2K   \u001b[90m━━━━━━━━━━━━━━━━━━━━━━━━━━━━━━━━━━━━━━━━\u001b[0m \u001b[32m216.5/216.5 kB\u001b[0m \u001b[31m17.3 MB/s\u001b[0m eta \u001b[36m0:00:00\u001b[0m\n",
            "\u001b[?25h"
          ]
        }
      ],
      "source": [
        "!pip install -q langgraph langchain_groq langchain langchain_community"
      ]
    },
    {
      "cell_type": "code",
      "source": [
        "from IPython.display import display, Image\n",
        "display(Image(graph.get_graph().draw_mermaid_png()))"
      ],
      "metadata": {
        "colab": {
          "base_uri": "https://localhost:8080/",
          "height": 266
        },
        "id": "Iz1fVTQJ5WgS",
        "outputId": "8a508e03-c229-4b9f-f9e1-5f2861cecb61"
      },
      "execution_count": 26,
      "outputs": [
        {
          "output_type": "display_data",
          "data": {
            "image/png": "[encoded data removed]",
            "text/plain": [
              "<IPython.core.display.Image object>"
            ]
          },
          "metadata": {}
        }
      ]
    },
    {
      "cell_type": "markdown",
      "source": [
        "## **CREATE STATE**"
      ],
      "metadata": {
        "id": "_x5Ykb1DxnS1"
      }
    },
    {
      "cell_type": "code",
      "source": [
        "from typing import TypedDict,Annotated\n",
        "from langgraph.graph import add_messages"
      ],
      "metadata": {
        "id": "8LPM1uFyxp_u"
      },
      "execution_count": 3,
      "outputs": []
    },
    {
      "cell_type": "code",
      "source": [
        "class State(TypedDict):\n",
        "  messages:Annotated[list,add_messages]"
      ],
      "metadata": {
        "id": "pTm-ZMiGx0-C"
      },
      "execution_count": 4,
      "outputs": []
    },
    {
      "cell_type": "markdown",
      "source": [
        "## **CREATE TOOLS**"
      ],
      "metadata": {
        "id": "JPJSiu5Ay6N1"
      }
    },
    {
      "cell_type": "code",
      "source": [
        "def add(a:int,b:int)->int:\n",
        "  \"\"\"take two numbers and returns its addition\"\"\"\n",
        "  return a+b"
      ],
      "metadata": {
        "id": "85zxkottzAW0"
      },
      "execution_count": 5,
      "outputs": []
    },
    {
      "cell_type": "code",
      "source": [
        "def sub(a:int,b:int)->int:\n",
        "  \"\"\"take two numbers and returns its subtraction\"\"\"\n",
        "  return a-b"
      ],
      "metadata": {
        "id": "M2WXf85OzPkx"
      },
      "execution_count": 6,
      "outputs": []
    },
    {
      "cell_type": "markdown",
      "source": [
        "### **BIND TOOL WITH LLM**"
      ],
      "metadata": {
        "id": "1WRZjd6tzi4N"
      }
    },
    {
      "cell_type": "code",
      "source": [
        "from langchain_groq import ChatGroq\n",
        "llm=ChatGroq(model='llama-3.1-8b-instant',api_key='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')"
      ],
      "metadata": {
        "id": "7ZXsz33rzlqU"
      },
      "execution_count": 15,
      "outputs": []
    },
    {
      "cell_type": "code",
      "source": [
        "llm_with_tools=llm.bind_tools([add,sub])"
      ],
      "metadata": {
        "id": "VFRL0zyizyDA"
      },
      "execution_count": 18,
      "outputs": []
    },
    {
      "cell_type": "markdown",
      "source": [
        "## **CREATE NODE**"
      ],
      "metadata": {
        "id": "Pfqh3IOJ2DJr"
      }
    },
    {
      "cell_type": "code",
      "source": [
        "def llm_tools(state:State):\n",
        "  return {'messages':llm_with_tools.invoke(state['messages'])}"
      ],
      "metadata": {
        "id": "N0e5GZ-t54N7"
      },
      "execution_count": 30,
      "outputs": []
    },
    {
      "cell_type": "markdown",
      "source": [
        "## **GRAPH**"
      ],
      "metadata": {
        "id": "4Tzzch-T1eji"
      }
    },
    {
      "cell_type": "code",
      "source": [
        "from langgraph.graph import START,END,StateGraph\n",
        "from langgraph.prebuilt import ToolNode,tools_condition\n",
        "\n",
        "#Create State\n",
        "builder=StateGraph(State)\n",
        "\n",
        "#Add Nodes\n",
        "builder.add_node(\"llm_tools\",llm_tools)\n",
        "builder.add_node(\"tools\",ToolNode([add,sub]))\n",
        "\n",
        "#Add Edges\n",
        "builder.add_edge(START,\"llm_tools\")\n",
        "builder.add_conditional_edges(\"llm_tools\",tools_condition)\n",
        "builder.add_edge(\"tools\",\"llm_tools\")\n",
        "\n",
        "#Compile\n",
        "graph=builder.compile()\n",
        "\n"
      ],
      "metadata": {
        "id": "9hNUnOmB1jrn"
      },
      "execution_count": 31,
      "outputs": []
    },
    {
      "cell_type": "code",
      "source": [
        "from IPython.display import display, Image\n",
        "display(Image(graph.get_graph().draw_mermaid_png()))"
      ],
      "metadata": {
        "colab": {
          "base_uri": "https://localhost:8080/",
          "height": 266
        },
        "id": "QwZXQAte5F3N",
        "outputId": "3f3860b0-c8a6-45be-f1d9-8d298f2eda60"
      },
      "execution_count": 32,
      "outputs": [
        {
          "output_type": "display_data",
          "data": {
            "image/png": "[encoded data removed]",
            "text/plain": [
              "<IPython.core.display.Image object>"
            ]
          },
          "metadata": {}
        }
      ]
    },
    {
      "cell_type": "code",
      "source": [
        "# Import HumanMessage\n",
        "from langchain_core.messages import HumanMessage\n",
        "graph.invoke({'messages':HumanMessage(content=\"Add 6 plus 9 then subtract 7 then add 4 then subtract 2 then add 10 and subtract 5 \")})"
      ],
      "metadata": {
        "colab": {
          "base_uri": "https://localhost:8080/"
        },
        "id": "efax6raZ5ZZ-",
        "outputId": "1845b6cd-3ee8-44e9-fbc8-9188cf18c0fb"
      },
      "execution_count": 34,
      "outputs": [
        {
          "output_type": "execute_result",
          "data": {
            "text/plain": [
              "{'messages': [HumanMessage(content='Add 6 plus 9 then subtract 7 then add 4 then subtract 2 then add 10 and subtract 5 ', additional_kwargs={}, response_metadata={}, id='f85b968b-4a5e-4bd1-9c56-aa4f5ed382aa'),\n",
              "  AIMessage(content='', additional_kwargs={'tool_calls': [{'id': 'call_qm3z', 'function': {'arguments': '{\"a\":6,\"b\":9}', 'name': 'add'}, 'type': 'function'}, {'id': 'call_nx7m', 'function': {'arguments': '{\"a\":6,\"b\":7}', 'name': 'sub'}, 'type': 'function'}, {'id': 'call_9gfr', 'function': {'arguments': '{\"a\":6,\"b\":4}', 'name': 'add'}, 'type': 'function'}, {'id': 'call_r2y7', 'function': {'arguments': '{\"a\":6,\"b\":2}', 'name': 'sub'}, 'type': 'function'}, {'id': 'call_7v47', 'function': {'arguments': '{\"a\":6,\"b\":10}', 'name': 'add'}, 'type': 'function'}, {'id': 'call_912a', 'function': {'arguments': '{\"a\":6,\"b\":5}', 'name': 'sub'}, 'type': 'function'}]}, response_metadata={'token_usage': {'completion_tokens': 103, 'prompt_tokens': 306, 'total_tokens': 409, 'completion_time': 0.153870861, 'prompt_time': 0.010015204, 'queue_time': 0.194581045, 'total_time': 0.163886065}, 'model_name': 'llama-3.1-8b-instant', 'system_fingerprint': 'fp_f7bd09b454', 'finish_reason': 'tool_calls', 'logprobs': None}, id='run--1c804b4a-4648-4840-b8e2-aab63d42bde9-0', tool_calls=[{'name': 'add', 'args': {'a': 6, 'b': 9}, 'id': 'call_qm3z', 'type': 'tool_call'}, {'name': 'sub', 'args': {'a': 6, 'b': 7}, 'id': 'call_nx7m', 'type': 'tool_call'}, {'name': 'add', 'args': {'a': 6, 'b': 4}, 'id': 'call_9gfr', 'type': 'tool_call'}, {'name': 'sub', 'args': {'a': 6, 'b': 2}, 'id': 'call_r2y7', 'type': 'tool_call'}, {'name': 'add', 'args': {'a': 6, 'b': 10}, 'id': 'call_7v47', 'type': 'tool_call'}, {'name': 'sub', 'args': {'a': 6, 'b': 5}, 'id': 'call_912a', 'type': 'tool_call'}], usage_metadata={'input_tokens': 306, 'output_tokens': 103, 'total_tokens': 409}),\n",
              "  ToolMessage(content='15', name='add', id='bf1e29d8-ada4-4863-a5b4-d8b17e96fa63', tool_call_id='call_qm3z'),\n",
              "  ToolMessage(content='-1', name='sub', id='f5159c57-6e8b-4c7e-8f06-68d33a671ada', tool_call_id='call_nx7m'),\n",
              "  ToolMessage(content='10', name='add', id='e1c81b38-7dc3-4358-b45c-4c756374ada6', tool_call_id='call_9gfr'),\n",
              "  ToolMessage(content='4', name='sub', id='bb54a99f-b950-4f06-be94-146dc9e3925e', tool_call_id='call_r2y7'),\n",
              "  ToolMessage(content='16', name='add', id='ca7fd2e9-6ed4-4c54-8d7f-573009eb29cb', tool_call_id='call_7v47'),\n",
              "  ToolMessage(content='1', name='sub', id='25460dff-3cc7-4c4a-b8c7-cdb4d3070e34', tool_call_id='call_912a'),\n",
              "  AIMessage(content='The results are:\\n\\n15 (6 + 9)\\n-1 (6 - 7)\\n10 (6 + 4)\\n4 (6 - 2)\\n16 (6 + 10)\\n1 (6 - 5)', additional_kwargs={}, response_metadata={'token_usage': {'completion_tokens': 48, 'prompt_tokens': 456, 'total_tokens': 504, 'completion_time': 0.115321611, 'prompt_time': 0.100837682, 'queue_time': 1.872844126, 'total_time': 0.216159293}, 'model_name': 'llama-3.1-8b-instant', 'system_fingerprint': 'fp_a4265e44d5', 'finish_reason': 'stop', 'logprobs': None}, id='run--b079487f-c143-4f19-81ac-98d2d24743b6-0', usage_metadata={'input_tokens': 456, 'output_tokens': 48, 'total_tokens': 504})]}"
            ]
          },
          "metadata": {},
          "execution_count": 34
        }
      ]
    },
    {
      "cell_type": "code",
      "source": [
        "messages=[HumanMessage(content=\"Add 6 plus 9 then subtract 7 then add 4 then subtract 2 then add 10 and subtract 5\")]\n",
        "messages=graph.invoke({\"messages\":messages})\n",
        "for m in messages['messages']:\n",
        "    m.pretty_print()"
      ],
      "metadata": {
        "colab": {
          "base_uri": "https://localhost:8080/"
        },
        "id": "cYsEh1oW6d6X",
        "outputId": "9f851d4d-6646-4c2a-8dfb-56266e658a66"
      },
      "execution_count": 36,
      "outputs": [
        {
          "output_type": "stream",
          "name": "stdout",
          "text": [
            "================================\u001b[1m Human Message \u001b[0m=================================\n",
            "\n",
            "Add 6 plus 9 then subtract 7 then add 4 then subtract 2 then add 10 and subtract 5\n",
            "==================================\u001b[1m Ai Message \u001b[0m==================================\n",
            "Tool Calls:\n",
            "  add (call_bf6p)\n",
            " Call ID: call_bf6p\n",
            "  Args:\n",
            "    a: 6\n",
            "    b: 9\n",
            "  sub (call_j8am)\n",
            " Call ID: call_j8am\n",
            "  Args:\n",
            "    a: 15\n",
            "    b: 7\n",
            "  add (call_1qk0)\n",
            " Call ID: call_1qk0\n",
            "  Args:\n",
            "    a: 8\n",
            "    b: 4\n",
            "  sub (call_223a)\n",
            " Call ID: call_223a\n",
            "  Args:\n",
            "    a: 12\n",
            "    b: 2\n",
            "  add (call_nrna)\n",
            " Call ID: call_nrna\n",
            "  Args:\n",
            "    a: 10\n",
            "    b: 10\n",
            "  sub (call_6qq8)\n",
            " Call ID: call_6qq8\n",
            "  Args:\n",
            "    a: 20\n",
            "    b: 5\n",
            "=================================\u001b[1m Tool Message \u001b[0m=================================\n",
            "Name: add\n",
            "\n",
            "15\n",
            "=================================\u001b[1m Tool Message \u001b[0m=================================\n",
            "Name: sub\n",
            "\n",
            "8\n",
            "=================================\u001b[1m Tool Message \u001b[0m=================================\n",
            "Name: add\n",
            "\n",
            "12\n",
            "=================================\u001b[1m Tool Message \u001b[0m=================================\n",
            "Name: sub\n",
            "\n",
            "10\n",
            "=================================\u001b[1m Tool Message \u001b[0m=================================\n",
            "Name: add\n",
            "\n",
            "20\n",
            "=================================\u001b[1m Tool Message \u001b[0m=================================\n",
            "Name: sub\n",
            "\n",
            "15\n",
            "==================================\u001b[1m Ai Message \u001b[0m==================================\n",
            "\n",
            "So the final result is 15.\n"
          ]
        }
      ]
    }
  ]
}