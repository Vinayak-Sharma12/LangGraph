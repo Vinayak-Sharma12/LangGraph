{
  "nbformat": 4,
  "nbformat_minor": 0,
  "metadata": {
    "colab": {
      "provenance": [],
      "authorship_tag": "ABX9TyOmv+X+EtIx4GqAEf/MKwan",
      "include_colab_link": true
    },
    "kernelspec": {
      "name": "python3",
      "display_name": "Python 3"
    },
    "language_info": {
      "name": "python"
    }
  },
  "cells": [
    {
      "cell_type": "markdown",
      "metadata": {
        "id": "view-in-github",
        "colab_type": "text"
      },
      "source": [
        "<a href=\"https://colab.research.google.com/github/Vinayak-Sharma12/LangGraph/blob/main/9_Router_Made_using_Function(Pydantic).ipynb\" target=\"_parent\"><img src=\"https://colab.research.google.com/assets/colab-badge.svg\" alt=\"Open In Colab\"/></a>"
      ]
    },
    {
      "cell_type": "code",
      "execution_count": 1,
      "metadata": {
        "colab": {
          "base_uri": "https://localhost:8080/"
        },
        "id": "M6ybeMpy8Pnq",
        "outputId": "a8560627-5c07-4753-af3d-76ac63516908"
      },
      "outputs": [
        {
          "output_type": "stream",
          "name": "stdout",
          "text": [
            "\u001b[2K     \u001b[90m━━━━━━━━━━━━━━━━━━━━━━━━━━━━━━━━━━━━━━━━\u001b[0m \u001b[32m43.7/43.7 kB\u001b[0m \u001b[31m3.0 MB/s\u001b[0m eta \u001b[36m0:00:00\u001b[0m\n",
            "\u001b[2K   \u001b[90m━━━━━━━━━━━━━━━━━━━━━━━━━━━━━━━━━━━━━━━━\u001b[0m \u001b[32m152.4/152.4 kB\u001b[0m \u001b[31m7.0 MB/s\u001b[0m eta \u001b[36m0:00:00\u001b[0m\n",
            "\u001b[2K   \u001b[90m━━━━━━━━━━━━━━━━━━━━━━━━━━━━━━━━━━━━━━━━\u001b[0m \u001b[32m129.6/129.6 kB\u001b[0m \u001b[31m10.1 MB/s\u001b[0m eta \u001b[36m0:00:00\u001b[0m\n",
            "\u001b[2K   \u001b[90m━━━━━━━━━━━━━━━━━━━━━━━━━━━━━━━━━━━━━━━━\u001b[0m \u001b[32m44.2/44.2 kB\u001b[0m \u001b[31m3.8 MB/s\u001b[0m eta \u001b[36m0:00:00\u001b[0m\n",
            "\u001b[2K   \u001b[90m━━━━━━━━━━━━━━━━━━━━━━━━━━━━━━━━━━━━━━━━\u001b[0m \u001b[32m50.0/50.0 kB\u001b[0m \u001b[31m4.2 MB/s\u001b[0m eta \u001b[36m0:00:00\u001b[0m\n",
            "\u001b[2K   \u001b[90m━━━━━━━━━━━━━━━━━━━━━━━━━━━━━━━━━━━━━━━━\u001b[0m \u001b[32m216.5/216.5 kB\u001b[0m \u001b[31m17.5 MB/s\u001b[0m eta \u001b[36m0:00:00\u001b[0m\n",
            "\u001b[?25h"
          ]
        }
      ],
      "source": [
        "!pip install -q langgraph langchain_groq"
      ]
    },
    {
      "cell_type": "markdown",
      "source": [
        "DEFINE LLM"
      ],
      "metadata": {
        "id": "Th-XPxQB81nZ"
      }
    },
    {
      "cell_type": "code",
      "source": [
        "from langchain_groq import ChatGroq\n",
        "llm=ChatGroq(model='llama-3.1-8b-instant',api_key='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')"
      ],
      "metadata": {
        "id": "fbVGTplt81P7"
      },
      "execution_count": 5,
      "outputs": []
    },
    {
      "cell_type": "markdown",
      "source": [
        "## **CREATE STATE**"
      ],
      "metadata": {
        "id": "b2GPYMgj8gfF"
      }
    },
    {
      "cell_type": "code",
      "source": [
        "from typing import TypedDict,Literal\n",
        "class State(TypedDict):\n",
        "  input:str\n",
        "  decision:str\n",
        "  output:str"
      ],
      "metadata": {
        "id": "llRVNvRB8iaP"
      },
      "execution_count": 7,
      "outputs": []
    },
    {
      "cell_type": "markdown",
      "source": [
        "## **CREATE ROUTER FUNCTION**\n",
        "\n",
        "WORKFLOW -> DEFINE PYDANTIC(To Get Structure Output) -> CREATE A NODE TO DECISION MAKING -> CREATE CONDITIONAL FUNCTION TO ROUTE THAT"
      ],
      "metadata": {
        "id": "cJAR_RRI8wsk"
      }
    },
    {
      "cell_type": "code",
      "source": [
        "from pydantic import BaseModel,Field\n",
        "class route(BaseModel):\n",
        "  step:Literal['story','poem','joke']"
      ],
      "metadata": {
        "id": "U3g2DihC9RgS"
      },
      "execution_count": 25,
      "outputs": []
    },
    {
      "cell_type": "code",
      "source": [
        "router=llm.with_structured_output(route)"
      ],
      "metadata": {
        "id": "ZxucMfiM-LGs"
      },
      "execution_count": 23,
      "outputs": []
    },
    {
      "cell_type": "code",
      "source": [
        "def route_node(state:State):\n",
        "  \"\"\"Route to the appropriate Node\"\"\"\n",
        "  return {\"decision\":router.invoke(f\"According to user demand {state['input']} Route to either story,poem or joke \").step}"
      ],
      "metadata": {
        "id": "gF4Y43IT9qOE"
      },
      "execution_count": 42,
      "outputs": []
    },
    {
      "cell_type": "code",
      "source": [
        "def route_fxn(state:State):\n",
        "  if state['decision']=='story':\n",
        "    return \"story\"\n",
        "  if state['decision']=='poem':\n",
        "    return \"poem\"\n",
        "  if state['decision']=='joke':\n",
        "    return \"joke\""
      ],
      "metadata": {
        "id": "-GHlfWw0Esw_"
      },
      "execution_count": 44,
      "outputs": []
    },
    {
      "cell_type": "markdown",
      "source": [
        "## **CREATE NODE**"
      ],
      "metadata": {
        "id": "-4YYqDmY-v8j"
      }
    },
    {
      "cell_type": "code",
      "source": [
        "def story(state:State):\n",
        "  \"\"\"Write a story\"\"\"\n",
        "  return {\"output\":llm.invoke(f\"Write a story on the {state['input']}\").content}"
      ],
      "metadata": {
        "id": "mZM4uAcY-zrT"
      },
      "execution_count": 26,
      "outputs": []
    },
    {
      "cell_type": "code",
      "source": [
        "def poem(state:State):\n",
        "  \"\"\"Write a poem\"\"\"\n",
        "  return {\"output\":llm.invoke(f\"Write a poem on the {state['input']}\").content}\n",
        ""
      ],
      "metadata": {
        "id": "TBIf5fGF_G8p"
      },
      "execution_count": 27,
      "outputs": []
    },
    {
      "cell_type": "code",
      "source": [
        "def joke(state:State):\n",
        "  \"\"\"Write a joke\"\"\"\n",
        "  return {\"output\":llm.invoke(f\"Write a joke on the {state['input']}\").content}"
      ],
      "metadata": {
        "id": "3tu232ZJ_duQ"
      },
      "execution_count": 28,
      "outputs": []
    },
    {
      "cell_type": "markdown",
      "source": [
        "## **GRAPH**"
      ],
      "metadata": {
        "id": "Oi7XbGxL_j0V"
      }
    },
    {
      "cell_type": "code",
      "source": [
        "from langgraph.graph import StateGraph,START,END\n",
        "\n",
        "#DEFINE STATEGRAPH\n",
        "builder=StateGraph(State)\n",
        "\n",
        "#Add Nodes\n",
        "builder.add_node(\"story\",story)\n",
        "builder.add_node(\"poem\",poem)\n",
        "builder.add_node(\"joke\",joke)\n",
        "builder.add_node(\"route_node\",route_node)\n",
        "\n",
        "#Add Edges\n",
        "builder.add_edge(START,\"route_node\")\n",
        "builder.add_conditional_edges(\"route_node\",route_fxn,{\n",
        "    \"story\":\"story\",\n",
        "    \"poem\":'poem',\n",
        "    \"joke\":\"joke\"\n",
        "})\n",
        "builder.add_edge(\"story\",END)\n",
        "builder.add_edge(\"poem\",END)\n",
        "builder.add_edge(\"joke\",END)\n",
        "\n",
        "#Compile\n",
        "graph=builder.compile()"
      ],
      "metadata": {
        "id": "kes9BUNv_nwr"
      },
      "execution_count": 47,
      "outputs": []
    },
    {
      "cell_type": "code",
      "source": [
        "result=graph.invoke({\"input\":\"Write a poem on Elon Musk\"})"
      ],
      "metadata": {
        "id": "eUoRoTDbFsyy"
      },
      "execution_count": 58,
      "outputs": []
    },
    {
      "cell_type": "code",
      "source": [
        "print(result['output'])"
      ],
      "metadata": {
        "colab": {
          "base_uri": "https://localhost:8080/"
        },
        "id": "NHhNePJ_F7iQ",
        "outputId": "f85ba5d0-c87a-4722-ce8b-af4a44825c98"
      },
      "execution_count": 59,
      "outputs": [
        {
          "output_type": "stream",
          "name": "stdout",
          "text": [
            "In Silicon Valley's land of dreams,\n",
            "A visionary rose to great extremes,\n",
            "Elon Musk, a name that's known so well,\n",
            "A pioneer, a trailblazer, a story to tell.\n",
            "\n",
            "With SpaceX, he reached for the skies,\n",
            "A dream of Mars, a future surprise,\n",
            "Reusability, efficiency, a goal in sight,\n",
            "To make humanity a multi-planetary sight.\n",
            "\n",
            "At Tesla, he revolutionized the wheel,\n",
            "Electric cars, a new era to feel,\n",
            "Sustainable energy, a path to take,\n",
            "A cleaner future, for the world's sake.\n",
            "\n",
            "With Neuralink, he sought to make us whole,\n",
            "A brain-machine interface, a new goal,\n",
            "To merge humans and tech, a new way to be,\n",
            "A future of possibilities, for you and me.\n",
            "\n",
            "At The Boring Company, he dug deep,\n",
            "To make tunnels, and transportation unique,\n",
            "A solution to traffic, a problem to solve,\n",
            "A faster future, for the world to evolve.\n",
            "\n",
            "With Twitter, he shared his thoughts so bold,\n",
            "A platform for discussion, a story to be told,\n",
            "A voice for the people, a place to share,\n",
            "A digital stage, for the world to care.\n",
            "\n",
            "Elon Musk, a name that's known so bright,\n",
            "A leader, an innovator, a shining light,\n",
            "A dreamer, a thinker, a doer, a maker too,\n",
            "A true pioneer, in all that he do.\n",
            "\n",
            "His journey's not easy, his path is not clear,\n",
            "But with persistence, and a vision so dear,\n",
            "He pushed boundaries, and broke through the mold,\n",
            "A true hero, in the world of gold.\n",
            "\n",
            "So let's celebrate, this visionary's might,\n",
            "A shining star, in the dark of night,\n",
            "Elon Musk, a name that will forever shine,\n",
            "A legend, a hero, a true pioneer divine.\n"
          ]
        }
      ]
    }
  ]
}