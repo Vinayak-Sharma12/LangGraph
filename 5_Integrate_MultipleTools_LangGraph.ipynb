{
  "nbformat": 4,
  "nbformat_minor": 0,
  "metadata": {
    "colab": {
      "provenance": [],
      "authorship_tag": "ABX9TyOogctcD43wu5LBgXl03s1k",
      "include_colab_link": true
    },
    "kernelspec": {
      "name": "python3",
      "display_name": "Python 3"
    },
    "language_info": {
      "name": "python"
    }
  },
  "cells": [
    {
      "cell_type": "markdown",
      "metadata": {
        "id": "view-in-github",
        "colab_type": "text"
      },
      "source": [
        "<a href=\"https://colab.research.google.com/github/Vinayak-Sharma12/LangGraph/blob/main/5_Integrate_MultipleTools_LangGraph.ipynb\" target=\"_parent\"><img src=\"https://colab.research.google.com/assets/colab-badge.svg\" alt=\"Open In Colab\"/></a>"
      ]
    },
    {
      "cell_type": "code",
      "execution_count": 14,
      "metadata": {
        "colab": {
          "base_uri": "https://localhost:8080/"
        },
        "id": "5QkOOtpwiwmF",
        "outputId": "0ff0dfd6-8968-4712-d8a3-72ff7f247817"
      },
      "outputs": [
        {
          "output_type": "stream",
          "name": "stdout",
          "text": [
            "Requirement already satisfied: langgraph in /usr/local/lib/python3.11/dist-packages (0.4.5)\n",
            "Requirement already satisfied: wikipedia in /usr/local/lib/python3.11/dist-packages (1.4.0)\n",
            "Requirement already satisfied: langchain in /usr/local/lib/python3.11/dist-packages (0.3.25)\n",
            "Requirement already satisfied: langchain_community in /usr/local/lib/python3.11/dist-packages (0.3.24)\n",
            "Collecting langchain_groq\n",
            "  Downloading langchain_groq-0.3.2-py3-none-any.whl.metadata (2.6 kB)\n",
            "Requirement already satisfied: langchain-core>=0.1 in /usr/local/lib/python3.11/dist-packages (from langgraph) (0.3.59)\n",
            "Requirement already satisfied: langgraph-checkpoint<3.0.0,>=2.0.26 in /usr/local/lib/python3.11/dist-packages (from langgraph) (2.0.26)\n",
            "Requirement already satisfied: langgraph-prebuilt>=0.1.8 in /usr/local/lib/python3.11/dist-packages (from langgraph) (0.1.8)\n",
            "Requirement already satisfied: langgraph-sdk>=0.1.42 in /usr/local/lib/python3.11/dist-packages (from langgraph) (0.1.69)\n",
            "Requirement already satisfied: pydantic>=2.7.4 in /usr/local/lib/python3.11/dist-packages (from langgraph) (2.11.4)\n",
            "Requirement already satisfied: xxhash<4.0.0,>=3.5.0 in /usr/local/lib/python3.11/dist-packages (from langgraph) (3.5.0)\n",
            "Requirement already satisfied: beautifulsoup4 in /usr/local/lib/python3.11/dist-packages (from wikipedia) (4.13.4)\n",
            "Requirement already satisfied: requests<3.0.0,>=2.0.0 in /usr/local/lib/python3.11/dist-packages (from wikipedia) (2.32.3)\n",
            "Requirement already satisfied: langchain-text-splitters<1.0.0,>=0.3.8 in /usr/local/lib/python3.11/dist-packages (from langchain) (0.3.8)\n",
            "Requirement already satisfied: langsmith<0.4,>=0.1.17 in /usr/local/lib/python3.11/dist-packages (from langchain) (0.3.42)\n",
            "Requirement already satisfied: SQLAlchemy<3,>=1.4 in /usr/local/lib/python3.11/dist-packages (from langchain) (2.0.40)\n",
            "Requirement already satisfied: PyYAML>=5.3 in /usr/local/lib/python3.11/dist-packages (from langchain) (6.0.2)\n",
            "Requirement already satisfied: aiohttp<4.0.0,>=3.8.3 in /usr/local/lib/python3.11/dist-packages (from langchain_community) (3.11.15)\n",
            "Requirement already satisfied: tenacity!=8.4.0,<10,>=8.1.0 in /usr/local/lib/python3.11/dist-packages (from langchain_community) (9.1.2)\n",
            "Requirement already satisfied: dataclasses-json<0.7,>=0.5.7 in /usr/local/lib/python3.11/dist-packages (from langchain_community) (0.6.7)\n",
            "Requirement already satisfied: pydantic-settings<3.0.0,>=2.4.0 in /usr/local/lib/python3.11/dist-packages (from langchain_community) (2.9.1)\n",
            "Requirement already satisfied: httpx-sse<1.0.0,>=0.4.0 in /usr/local/lib/python3.11/dist-packages (from langchain_community) (0.4.0)\n",
            "Requirement already satisfied: numpy>=1.26.2 in /usr/local/lib/python3.11/dist-packages (from langchain_community) (2.0.2)\n",
            "Collecting groq<1,>=0.4.1 (from langchain_groq)\n",
            "  Downloading groq-0.25.0-py3-none-any.whl.metadata (15 kB)\n",
            "Requirement already satisfied: aiohappyeyeballs>=2.3.0 in /usr/local/lib/python3.11/dist-packages (from aiohttp<4.0.0,>=3.8.3->langchain_community) (2.6.1)\n",
            "Requirement already satisfied: aiosignal>=1.1.2 in /usr/local/lib/python3.11/dist-packages (from aiohttp<4.0.0,>=3.8.3->langchain_community) (1.3.2)\n",
            "Requirement already satisfied: attrs>=17.3.0 in /usr/local/lib/python3.11/dist-packages (from aiohttp<4.0.0,>=3.8.3->langchain_community) (25.3.0)\n",
            "Requirement already satisfied: frozenlist>=1.1.1 in /usr/local/lib/python3.11/dist-packages (from aiohttp<4.0.0,>=3.8.3->langchain_community) (1.6.0)\n",
            "Requirement already satisfied: multidict<7.0,>=4.5 in /usr/local/lib/python3.11/dist-packages (from aiohttp<4.0.0,>=3.8.3->langchain_community) (6.4.3)\n",
            "Requirement already satisfied: propcache>=0.2.0 in /usr/local/lib/python3.11/dist-packages (from aiohttp<4.0.0,>=3.8.3->langchain_community) (0.3.1)\n",
            "Requirement already satisfied: yarl<2.0,>=1.17.0 in /usr/local/lib/python3.11/dist-packages (from aiohttp<4.0.0,>=3.8.3->langchain_community) (1.20.0)\n",
            "Requirement already satisfied: marshmallow<4.0.0,>=3.18.0 in /usr/local/lib/python3.11/dist-packages (from dataclasses-json<0.7,>=0.5.7->langchain_community) (3.26.1)\n",
            "Requirement already satisfied: typing-inspect<1,>=0.4.0 in /usr/local/lib/python3.11/dist-packages (from dataclasses-json<0.7,>=0.5.7->langchain_community) (0.9.0)\n",
            "Requirement already satisfied: anyio<5,>=3.5.0 in /usr/local/lib/python3.11/dist-packages (from groq<1,>=0.4.1->langchain_groq) (4.9.0)\n",
            "Requirement already satisfied: distro<2,>=1.7.0 in /usr/local/lib/python3.11/dist-packages (from groq<1,>=0.4.1->langchain_groq) (1.9.0)\n",
            "Requirement already satisfied: httpx<1,>=0.23.0 in /usr/local/lib/python3.11/dist-packages (from groq<1,>=0.4.1->langchain_groq) (0.28.1)\n",
            "Requirement already satisfied: sniffio in /usr/local/lib/python3.11/dist-packages (from groq<1,>=0.4.1->langchain_groq) (1.3.1)\n",
            "Requirement already satisfied: typing-extensions<5,>=4.10 in /usr/local/lib/python3.11/dist-packages (from groq<1,>=0.4.1->langchain_groq) (4.13.2)\n",
            "Requirement already satisfied: jsonpatch<2.0,>=1.33 in /usr/local/lib/python3.11/dist-packages (from langchain-core>=0.1->langgraph) (1.33)\n",
            "Requirement already satisfied: packaging<25,>=23.2 in /usr/local/lib/python3.11/dist-packages (from langchain-core>=0.1->langgraph) (24.2)\n",
            "Requirement already satisfied: ormsgpack<2.0.0,>=1.8.0 in /usr/local/lib/python3.11/dist-packages (from langgraph-checkpoint<3.0.0,>=2.0.26->langgraph) (1.9.1)\n",
            "Requirement already satisfied: orjson>=3.10.1 in /usr/local/lib/python3.11/dist-packages (from langgraph-sdk>=0.1.42->langgraph) (3.10.18)\n",
            "Requirement already satisfied: requests-toolbelt<2.0.0,>=1.0.0 in /usr/local/lib/python3.11/dist-packages (from langsmith<0.4,>=0.1.17->langchain) (1.0.0)\n",
            "Requirement already satisfied: zstandard<0.24.0,>=0.23.0 in /usr/local/lib/python3.11/dist-packages (from langsmith<0.4,>=0.1.17->langchain) (0.23.0)\n",
            "Requirement already satisfied: annotated-types>=0.6.0 in /usr/local/lib/python3.11/dist-packages (from pydantic>=2.7.4->langgraph) (0.7.0)\n",
            "Requirement already satisfied: pydantic-core==2.33.2 in /usr/local/lib/python3.11/dist-packages (from pydantic>=2.7.4->langgraph) (2.33.2)\n",
            "Requirement already satisfied: typing-inspection>=0.4.0 in /usr/local/lib/python3.11/dist-packages (from pydantic>=2.7.4->langgraph) (0.4.0)\n",
            "Requirement already satisfied: python-dotenv>=0.21.0 in /usr/local/lib/python3.11/dist-packages (from pydantic-settings<3.0.0,>=2.4.0->langchain_community) (1.1.0)\n",
            "Requirement already satisfied: charset-normalizer<4,>=2 in /usr/local/lib/python3.11/dist-packages (from requests<3.0.0,>=2.0.0->wikipedia) (3.4.2)\n",
            "Requirement already satisfied: idna<4,>=2.5 in /usr/local/lib/python3.11/dist-packages (from requests<3.0.0,>=2.0.0->wikipedia) (3.10)\n",
            "Requirement already satisfied: urllib3<3,>=1.21.1 in /usr/local/lib/python3.11/dist-packages (from requests<3.0.0,>=2.0.0->wikipedia) (2.4.0)\n",
            "Requirement already satisfied: certifi>=2017.4.17 in /usr/local/lib/python3.11/dist-packages (from requests<3.0.0,>=2.0.0->wikipedia) (2025.4.26)\n",
            "Requirement already satisfied: greenlet>=1 in /usr/local/lib/python3.11/dist-packages (from SQLAlchemy<3,>=1.4->langchain) (3.2.2)\n",
            "Requirement already satisfied: soupsieve>1.2 in /usr/local/lib/python3.11/dist-packages (from beautifulsoup4->wikipedia) (2.7)\n",
            "Requirement already satisfied: httpcore==1.* in /usr/local/lib/python3.11/dist-packages (from httpx<1,>=0.23.0->groq<1,>=0.4.1->langchain_groq) (1.0.9)\n",
            "Requirement already satisfied: h11>=0.16 in /usr/local/lib/python3.11/dist-packages (from httpcore==1.*->httpx<1,>=0.23.0->groq<1,>=0.4.1->langchain_groq) (0.16.0)\n",
            "Requirement already satisfied: jsonpointer>=1.9 in /usr/local/lib/python3.11/dist-packages (from jsonpatch<2.0,>=1.33->langchain-core>=0.1->langgraph) (3.0.0)\n",
            "Requirement already satisfied: mypy-extensions>=0.3.0 in /usr/local/lib/python3.11/dist-packages (from typing-inspect<1,>=0.4.0->dataclasses-json<0.7,>=0.5.7->langchain_community) (1.1.0)\n",
            "Downloading langchain_groq-0.3.2-py3-none-any.whl (15 kB)\n",
            "Downloading groq-0.25.0-py3-none-any.whl (129 kB)\n",
            "\u001b[2K   \u001b[90m━━━━━━━━━━━━━━━━━━━━━━━━━━━━━━━━━━━━━━━━\u001b[0m \u001b[32m129.4/129.4 kB\u001b[0m \u001b[31m9.8 MB/s\u001b[0m eta \u001b[36m0:00:00\u001b[0m\n",
            "\u001b[?25hInstalling collected packages: groq, langchain_groq\n",
            "Successfully installed groq-0.25.0 langchain_groq-0.3.2\n"
          ]
        }
      ],
      "source": [
        "!pip install langgraph wikipedia langchain langchain_community langchain_groq"
      ]
    },
    {
      "cell_type": "markdown",
      "source": [
        "## **CREATE STATE**"
      ],
      "metadata": {
        "id": "F8gp-wBRjOIY"
      }
    },
    {
      "cell_type": "code",
      "source": [
        "from typing_extensions import TypedDict\n",
        "from langgraph.graph import add_messages\n",
        "from typing import Annotated"
      ],
      "metadata": {
        "id": "2SIMWKbyjWSh"
      },
      "execution_count": 4,
      "outputs": []
    },
    {
      "cell_type": "code",
      "source": [
        "class State(TypedDict):\n",
        "  messages:Annotated[list,add_messages]"
      ],
      "metadata": {
        "id": "-kLjMgIajTsY"
      },
      "execution_count": 5,
      "outputs": []
    },
    {
      "cell_type": "markdown",
      "source": [
        "## **TOOL**"
      ],
      "metadata": {
        "id": "s_EM5Kjhj21W"
      }
    },
    {
      "cell_type": "code",
      "source": [
        "from langchain_community.utilities import WikipediaAPIWrapper\n",
        "from langchain.tools import WikipediaQueryRun\n",
        "wiki=WikipediaAPIWrapper(top_k_results=3)\n",
        "wiki=WikipediaQueryRun(api_wrapper=wiki)"
      ],
      "metadata": {
        "id": "yDZTzv3Fk2XS"
      },
      "execution_count": 20,
      "outputs": []
    },
    {
      "cell_type": "code",
      "source": [
        "wiki.run(\"Hello\")"
      ],
      "metadata": {
        "colab": {
          "base_uri": "https://localhost:8080/",
          "height": 306
        },
        "id": "oh9Z6zP3mGFx",
        "outputId": "14241c01-53ad-43a9-d74e-ba88988a7cac"
      },
      "execution_count": 21,
      "outputs": [
        {
          "output_type": "stream",
          "name": "stderr",
          "text": [
            "/usr/local/lib/python3.11/dist-packages/wikipedia/wikipedia.py:389: GuessedAtParserWarning: No parser was explicitly specified, so I'm using the best available HTML parser for this system (\"lxml\"). This usually isn't a problem, but if you run this code on another system, or in a different virtual environment, it may use a different parser and behave differently.\n",
            "\n",
            "The code that caused this warning is on line 389 of the file /usr/local/lib/python3.11/dist-packages/wikipedia/wikipedia.py. To get rid of this warning, pass the additional argument 'features=\"lxml\"' to the BeautifulSoup constructor.\n",
            "\n",
            "  lis = BeautifulSoup(html).find_all('li')\n"
          ]
        },
        {
          "output_type": "execute_result",
          "data": {
            "text/plain": [
              "'Page: Hello\\nSummary: Hello is a salutation or greeting in the English language. It is first attested in writing from 1826.\\n\\nPage: Hello Kitty\\nSummary: Hello Kitty (Japanese: ハロー・キティ, Hepburn: Harō Kiti), also known by her real name Kitty White (キティ・ホワイト, Kiti Howaito), is a fictional character created by Yuko Shimizu, currently designed by Yuko Yamaguchi, and owned by the Japanese company Sanrio. Sanrio depicts Hello Kitty as a British anthropomorphized white cat with a red bow and no visible mouth. According to her backstory, she lives in a London suburb with her family, and is close to her twin sister Mimmy, who is depicted with a yellow bow.\\nHello Kitty was created in 1974 and the first item, a vinyl coin purse, was introduced in 1975. Originally, Hello Kitty was only marketed towards pre-teenage girls, but beginning in the 1990s, the brand found commercial success among teenage and adult consumers as well. Hello Kitty\\'s popularity also grew with the emergence of kawaii (cute) culture. The brand went into decline in Japan after the 1990s, but continued to grow in the international market. By 2010, the character was worth $5 billion a year and The New York Times called her a \"global marketing phenomenon\". She did about $8 billion at retail in 2013.\\nUNICEF has appointed Hello Kitty children\\'s ambassador and the Japanese government appointed her ambassador of tourism. There are Sanrio theme parks based on Hello Kitty: Harmonyland in Hiji, Ōita, Japan, Sanrio Puroland in Tama New Town, Tokyo, Japan, and Hello Kitty Shanghai Times in Shanghai, China. The Hello Kitty media franchise has grown to include a number of animated series targeted towards children, as well as several comics, animated films, video games, books, music albums and other media productions. A variety of products have featured the character over the years, like school supplies, clothing, accessories, and toys, along with other items. In 2008, there were over 50,000 different Hello Kitty branded products.'"
            ],
            "application/vnd.google.colaboratory.intrinsic+json": {
              "type": "string"
            }
          },
          "metadata": {},
          "execution_count": 21
        }
      ]
    },
    {
      "cell_type": "code",
      "source": [
        "def add(a:int,b:int)->int:\n",
        "  \"\"\"Add two number\"\"\"\n",
        "  return a+b"
      ],
      "metadata": {
        "id": "laIGwVp3j5MZ"
      },
      "execution_count": 6,
      "outputs": []
    },
    {
      "cell_type": "code",
      "source": [
        "def sub(a:int,b:int)->int:\n",
        "  \"Subtract two number\"\n",
        "  return a-b\n"
      ],
      "metadata": {
        "id": "SAB_StgqkOss"
      },
      "execution_count": 7,
      "outputs": []
    },
    {
      "cell_type": "code",
      "source": [
        "tools=[wiki,add,sub]"
      ],
      "metadata": {
        "id": "C3IDs2SqlBpo"
      },
      "execution_count": 23,
      "outputs": []
    },
    {
      "cell_type": "markdown",
      "source": [
        "## **BINDING TOOL WITH LLM**"
      ],
      "metadata": {
        "id": "PCFhHOSdlI0r"
      }
    },
    {
      "cell_type": "code",
      "source": [
        "from langchain_groq import ChatGroq\n",
        "llm=ChatGroq(model='llama-3.1-8b-instant',api_key='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')"
      ],
      "metadata": {
        "id": "gXZocDF7lSh1"
      },
      "execution_count": 41,
      "outputs": []
    },
    {
      "cell_type": "code",
      "source": [
        "llm.invoke(\"Hello\")"
      ],
      "metadata": {
        "colab": {
          "base_uri": "https://localhost:8080/"
        },
        "id": "ZKH_40EhpqOV",
        "outputId": "580c3b43-996a-4f7b-9319-995f8942d3ee"
      },
      "execution_count": 42,
      "outputs": [
        {
          "output_type": "execute_result",
          "data": {
            "text/plain": [
              "AIMessage(content='How can I assist you today?', additional_kwargs={}, response_metadata={'token_usage': {'completion_tokens': 8, 'prompt_tokens': 36, 'total_tokens': 44, 'completion_time': 0.011618862, 'prompt_time': 0.003291013, 'queue_time': 0.216093433, 'total_time': 0.014909875}, 'model_name': 'llama-3.1-8b-instant', 'system_fingerprint': 'fp_a4265e44d5', 'finish_reason': 'stop', 'logprobs': None}, id='run--c5bec18b-5840-42a4-bc19-3d93b9a51ce3-0', usage_metadata={'input_tokens': 36, 'output_tokens': 8, 'total_tokens': 44})"
            ]
          },
          "metadata": {},
          "execution_count": 42
        }
      ]
    },
    {
      "cell_type": "code",
      "source": [
        "llm_with_tools=llm.bind_tools(tools)"
      ],
      "metadata": {
        "id": "-_IpXSg6lNM4"
      },
      "execution_count": 43,
      "outputs": []
    },
    {
      "cell_type": "markdown",
      "source": [
        "## **CREATE NODE**"
      ],
      "metadata": {
        "id": "LttAwD9EnCIy"
      }
    },
    {
      "cell_type": "code",
      "source": [
        "def llm_tools(state:State):\n",
        "  return {\"messages\":llm_with_tools.invoke(state['messages'])}"
      ],
      "metadata": {
        "id": "w-53ZI28nG8F"
      },
      "execution_count": 44,
      "outputs": []
    },
    {
      "cell_type": "markdown",
      "source": [
        "### **GRAPH**"
      ],
      "metadata": {
        "id": "kuAb25z-nw-b"
      }
    },
    {
      "cell_type": "code",
      "source": [
        "from langgraph.graph import StateGraph,START,END\n",
        "from langgraph.prebuilt import ToolNode,tools_condition\n",
        "builder=StateGraph(State)\n",
        "\n",
        "#ADD NODES\n",
        "builder.add_node(\"llm_tools\",llm_tools)\n",
        "builder.add_node(\"tools\",ToolNode(tools))\n",
        "\n",
        "#ADD EDGES\n",
        "builder.add_edge(START,\"llm_tools\")\n",
        "builder.add_conditional_edges(\"llm_tools\",tools_condition) #if tool call it route to tool else to END\n",
        "builder.add_edge(\"tools\",END)\n",
        "\n",
        "#COMPILE\n",
        "graph=builder.compile()"
      ],
      "metadata": {
        "id": "18cvydXJn0-a"
      },
      "execution_count": 45,
      "outputs": []
    },
    {
      "cell_type": "code",
      "source": [
        "from IPython.display import Image, display\n",
        "display(Image(graph.get_graph().draw_mermaid_png()))"
      ],
      "metadata": {
        "colab": {
          "base_uri": "https://localhost:8080/",
          "height": 350
        },
        "id": "DE_B6xeMpXk2",
        "outputId": "23780bfb-51c2-4e65-d966-f867524a39c3"
      },
      "execution_count": 46,
      "outputs": [
        {
          "output_type": "display_data",
          "data": {
            "image/png": "[encoded data removed]",
            "text/plain": [
              "<IPython.core.display.Image object>"
            ]
          },
          "metadata": {}
        }
      ]
    },
    {
      "cell_type": "code",
      "source": [
        "graph.invoke({\"messages\":\"Tell me something about Vinayak Sharma\"})"
      ],
      "metadata": {
        "colab": {
          "base_uri": "https://localhost:8080/"
        },
        "id": "GBwHPsuupdBf",
        "outputId": "b42a0f36-3b80-4174-c555-adf8fb26aa6f"
      },
      "execution_count": 49,
      "outputs": [
        {
          "output_type": "execute_result",
          "data": {
            "text/plain": [
              "{'messages': [HumanMessage(content='Tell me something about Vinayak Sharma', additional_kwargs={}, response_metadata={}, id='8890034b-f925-40f7-be34-c9aed92ac35e'),\n",
              "  AIMessage(content='', additional_kwargs={'tool_calls': [{'id': 'call_dfqp', 'function': {'arguments': '{\"query\": \"Vinayak Sharma\"}', 'name': 'wikipedia'}, 'type': 'function'}]}, response_metadata={'token_usage': {'completion_tokens': 17, 'prompt_tokens': 393, 'total_tokens': 410, 'completion_time': 0.022666667, 'prompt_time': 0.012163416, 'queue_time': 0.216468994, 'total_time': 0.034830083}, 'model_name': 'llama-3.1-8b-instant', 'system_fingerprint': 'fp_f7bd09b454', 'finish_reason': 'tool_calls', 'logprobs': None}, id='run--310a43f0-0141-40c1-815a-ef8382b5bcb6-0', tool_calls=[{'name': 'wikipedia', 'args': {'query': 'Vinayak Sharma'}, 'id': 'call_dfqp', 'type': 'tool_call'}], usage_metadata={'input_tokens': 393, 'output_tokens': 17, 'total_tokens': 410}),\n",
              "  ToolMessage(content='Page: Taaruk Raina\\nSummary: Taaruk Raina is an Indian actor, singer, songwriter and composer. He is known for his portrayal of Anmol Malhotra in Mismatched.\\n\\nPage: Ghum Hai Kisikey Pyaar Meiin\\nSummary: Ghum Hai Kisikey Pyaar Meiin (transl.\\u2009Lost in Someone\\'s Love), abbreviated as GHKKPM, is an Indian Hindi-language television family drama series that premiered on 5 October 2020 on Star Plus and streams on Disney+ Hotstar. Produced by Cockrow Entertainment and Shaika Films, it was initially a loose adaptation of Bengali series Kusum Dola. The first generation starred Ayesha Singh, Neil Bhatt and Aishwarya Sharma Bhatt. The second generation starred Bhavika Sharma, Shakti Arora, Sumit Singh, Hitesh Bharadwaj and Amayra Khurana. From January 2025, it starred Vaibhavi Hankare, Param Singh and Sanam Johar. Since May 2025, Sharma replaced Hankare.\\n\\n\\n\\nPage: Vinayak Damodar Savarkar\\nSummary: Vinayak Damodar Savarkar (28 May 1883 – 26 February 1966 ) was an Indian politician, activist and writer. Savarkar developed the Hindu nationalist political ideology of Hindutva while confined at Ratnagiri in 1922. He was a leading figure in the Hindu Mahasabha. The prefix \"Veer\" (meaning \\'brave\\') has been given by himself, when he penned his own biography under pseudonym of Chitragupta .\\nSavarkar began his political activities as a high school student and continued to do so at Fergusson College in Pune. He and his brother founded a secret society called Abhinav Bharat Society. When he went to the United Kingdom for his law studies, he involved himself with organizations such as India House and the Free India Society. He also published books advocating complete Indian independence by revolutionary means. One of the books he published called The Indian War of Independence about the Indian Rebellion of 1857 was banned by the British colonial authorities.\\nIn 1910, Savarkar was arrested by the British government and was ordered to be extradited to India for his connections with India House. On the voyage back to India, Savarkar staged an attempt to escape from the steamship SS Morea and seek asylum in France while the ship was docked in the port of Marseille. The French port officials, however, handed him back to the British government. On return to India, Savarkar was sentenced to life terms of imprisonment totalling fifty years and was moved to the Cellular Jail in the Andaman and Nicobar Islands. He was released in 1924 by the British officials after he wrote a series of mercy petitions to the British. He virtually stopped any criticism of the British regime after he was released from jail.\\nAfter being released from his restriction to Ratnagiri district in 1937, Savarkar started traveling widely, becoming a forceful orator and writer, advocating Hindu political and social unity. In his Ahmedabad addressal, he supported Two-nation theory. The Hindu Mahasabha under Savarkar\\'s leadership endorsed the idea of India as a Hindu Rashtra (Hindu Nation).\\nIn 1939, the ruling Indian National Congress resigned en masse over Britain declaring India a belligerent in World War II. The Hindu Mahasabha under Savarkar formed alliances with the Muslim League and other non-Congress parties to form government in many states. Subsequently, Congress under Gandhi\\'s leadership launched the Quit India Movement; Savarkar boycotted the movement, writing a letter titled \"Stick to your Posts\" and recruiting Indians for the British war effort. In 1948, Savarkar was charged as a co-conspirator in the assassination of Mahatma Gandhi; he was acquitted by the court for lack of evidence.', name='wikipedia', id='4b3781fa-25c1-4313-88a2-15f09068b448', tool_call_id='call_dfqp')]}"
            ]
          },
          "metadata": {},
          "execution_count": 49
        }
      ]
    }
  ]
}