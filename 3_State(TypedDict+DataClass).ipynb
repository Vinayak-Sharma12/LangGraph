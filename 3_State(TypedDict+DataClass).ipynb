{
  "nbformat": 4,
  "nbformat_minor": 0,
  "metadata": {
    "colab": {
      "provenance": [],
      "authorship_tag": "ABX9TyNFSFNEAvtS7Agw/O9U2821",
      "include_colab_link": true
    },
    "kernelspec": {
      "name": "python3",
      "display_name": "Python 3"
    },
    "language_info": {
      "name": "python"
    }
  },
  "cells": [
    {
      "cell_type": "markdown",
      "metadata": {
        "id": "view-in-github",
        "colab_type": "text"
      },
      "source": [
        "<a href=\"https://colab.research.google.com/github/Vinayak-Sharma12/LangGraph/blob/main/3_State(TypedDict%2BDataClass).ipynb\" target=\"_parent\"><img src=\"https://colab.research.google.com/assets/colab-badge.svg\" alt=\"Open In Colab\"/></a>"
      ]
    },
    {
      "cell_type": "markdown",
      "source": [
        "TYPEDICT VS DATACLASS\n",
        "\n",
        "\n",
        "1.   Different in creating State (Little Bit)\n",
        "2.   Different in creating Node(Little Bit)\n",
        "3.  Different in invoking Graph(hmmm...)\n",
        "\n",
        "\n",
        "-> Not different in creating StateGraph\n",
        "\n"
      ],
      "metadata": {
        "id": "8-sGx2gDNc4_"
      }
    },
    {
      "cell_type": "markdown",
      "source": [
        "#**TypedDict**"
      ],
      "metadata": {
        "id": "Zo9-JbWUDEWT"
      }
    },
    {
      "cell_type": "markdown",
      "source": [
        "**TypedDict** provides a way to create state in the form of key and its values and it also provide Type Hint but it doesn't inforce Data Type in runtime"
      ],
      "metadata": {
        "id": "hwo_il_SDsMC"
      }
    },
    {
      "cell_type": "code",
      "source": [
        "!pip install -q langgraph"
      ],
      "metadata": {
        "id": "yYVUTtj2Nbfy"
      },
      "execution_count": null,
      "outputs": []
    },
    {
      "cell_type": "markdown",
      "source": [
        "# **TypedDict STATE**"
      ],
      "metadata": {
        "id": "R7W1h3muOFpC"
      }
    },
    {
      "cell_type": "code",
      "source": [
        "from typing_extensions import TypedDict\n",
        "from typing import Literal\n",
        "class TypedDict_State(TypedDict):\n",
        "       message:str\n",
        "       game:Literal[\"cricket\",\"badminton\"]"
      ],
      "metadata": {
        "id": "anUWV1KrDMYX"
      },
      "execution_count": 16,
      "outputs": []
    },
    {
      "cell_type": "markdown",
      "source": [
        "# **DATACLASS STATE**"
      ],
      "metadata": {
        "id": "Kx5JZxyLD-ci"
      }
    },
    {
      "cell_type": "markdown",
      "source": [
        "DataClass provide way to create state and it also don't enforce data type in runtime"
      ],
      "metadata": {
        "id": "2B3-HER0EklL"
      }
    },
    {
      "cell_type": "code",
      "source": [
        "from dataclasses import dataclass\n",
        "@dataclass\n",
        "class dataclass_State:\n",
        "       message:str\n",
        "       game:Literal[\"cricket\",\"badminton\"]\n",
        ""
      ],
      "metadata": {
        "id": "VnqsQyHgECTa"
      },
      "execution_count": 17,
      "outputs": []
    },
    {
      "cell_type": "markdown",
      "source": [
        "# **Node Created for TypeDict**"
      ],
      "metadata": {
        "id": "gyJ5xu6PEy-Q"
      }
    },
    {
      "cell_type": "code",
      "source": [
        "def play(state:TypedDict_State):\n",
        "  print(\"We are in Play Node\")\n",
        "  return {'message':state['message']+'I want to play'}"
      ],
      "metadata": {
        "id": "KwRAtKkgE7lB"
      },
      "execution_count": 18,
      "outputs": []
    },
    {
      "cell_type": "code",
      "source": [
        "def cricket(state:TypedDict_State):\n",
        "  print(\"we are in the cricket Node\")\n",
        "  return {\"message\":state['message']+\"Cricket\",'game':'Cricket'}"
      ],
      "metadata": {
        "id": "jPdT7lEwFuEz"
      },
      "execution_count": 19,
      "outputs": []
    },
    {
      "cell_type": "code",
      "source": [
        "def badminton(state:TypedDict_State):\n",
        "  print(\"we are in the Badminton Node\")\n",
        "  return {\"message\":state['message']+\"Badminton\",'game':'Badminton'}"
      ],
      "metadata": {
        "id": "3KgkfUpTGGzn"
      },
      "execution_count": 20,
      "outputs": []
    },
    {
      "cell_type": "markdown",
      "source": [
        "# **Node Created for dataclass**"
      ],
      "metadata": {
        "id": "dNWcUbVRLZGs"
      }
    },
    {
      "cell_type": "code",
      "source": [
        "def play(state:dataclass_State):\n",
        "  print(\"We are in Play Node\")\n",
        "  return {'message':state.message+'I want to play'}\n",
        "\n",
        "def cricket(state:dataclass_State):\n",
        "  print(\"we are in the cricket Node\")\n",
        "  return {\"message\":state.message+\"Cricket\",\"game\":'Cricket'}\n",
        "\n",
        "def badminton(state:dataclass_State):\n",
        "  print(\"we are in the Badminton Node\")\n",
        "  return {\"message\":state.message +\"Badminton\",\"game\":'Badminton'}\n",
        "\n"
      ],
      "metadata": {
        "id": "wwpNwBdULjOm"
      },
      "execution_count": null,
      "outputs": []
    },
    {
      "cell_type": "markdown",
      "source": [
        "### **How to Invoke Graph(dataclass)**"
      ],
      "metadata": {
        "id": "QBrPZjt-MTt9"
      }
    },
    {
      "cell_type": "code",
      "source": [
        "graph_builder.invoke(dataclass_State(message=\" \",game=\"cricket\"))"
      ],
      "metadata": {
        "id": "E-QwvyBgMZIU"
      },
      "execution_count": null,
      "outputs": []
    },
    {
      "cell_type": "markdown",
      "source": [
        "### **How to Invoke Graph(TypedDict)**"
      ],
      "metadata": {
        "id": "6k82f9ZCM8Mm"
      }
    },
    {
      "cell_type": "code",
      "source": [
        "graph_builder.invoke(\"message\":\" \",\"game\":\" \")"
      ],
      "metadata": {
        "id": "4ILrZ-tWNCJT"
      },
      "execution_count": null,
      "outputs": []
    }
  ]
}