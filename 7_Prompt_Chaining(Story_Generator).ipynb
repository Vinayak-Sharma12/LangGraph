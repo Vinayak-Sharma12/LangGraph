{
  "nbformat": 4,
  "nbformat_minor": 0,
  "metadata": {
    "colab": {
      "provenance": [],
      "authorship_tag": "ABX9TyMKzz4ELUqlq/oQ8osq35pk",
      "include_colab_link": true
    },
    "kernelspec": {
      "name": "python3",
      "display_name": "Python 3"
    },
    "language_info": {
      "name": "python"
    }
  },
  "cells": [
    {
      "cell_type": "markdown",
      "metadata": {
        "id": "view-in-github",
        "colab_type": "text"
      },
      "source": [
        "<a href=\"https://colab.research.google.com/github/Vinayak-Sharma12/LangGraph/blob/main/7_Prompt_Chaining(Story_Generator).ipynb\" target=\"_parent\"><img src=\"https://colab.research.google.com/assets/colab-badge.svg\" alt=\"Open In Colab\"/></a>"
      ]
    },
    {
      "cell_type": "markdown",
      "source": [
        "PROMPT CHAINING -> Prompt Chaining is simple technique in which we complete complex task by using nodes with prompts sequentially"
      ],
      "metadata": {
        "id": "ctc-oO49Ld77"
      }
    },
    {
      "cell_type": "markdown",
      "source": [
        "# TASK is Make Story Generator which Generates Story,Improvise it,Polish it\n",
        "\n",
        "1. Generate Story\n",
        "2. Improvise it\n",
        "3. Polish it"
      ],
      "metadata": {
        "id": "WzF4yyy1MGnK"
      }
    },
    {
      "cell_type": "code",
      "execution_count": 1,
      "metadata": {
        "colab": {
          "base_uri": "https://localhost:8080/"
        },
        "id": "tTKXTIcELV_9",
        "outputId": "b114188b-8f6f-425a-83d0-a08ed2d507a6"
      },
      "outputs": [
        {
          "output_type": "stream",
          "name": "stdout",
          "text": [
            "\u001b[2K     \u001b[90m━━━━━━━━━━━━━━━━━━━━━━━━━━━━━━━━━━━━━━━━\u001b[0m \u001b[32m43.7/43.7 kB\u001b[0m \u001b[31m1.7 MB/s\u001b[0m eta \u001b[36m0:00:00\u001b[0m\n",
            "\u001b[2K   \u001b[90m━━━━━━━━━━━━━━━━━━━━━━━━━━━━━━━━━━━━━━━━\u001b[0m \u001b[32m154.9/154.9 kB\u001b[0m \u001b[31m5.6 MB/s\u001b[0m eta \u001b[36m0:00:00\u001b[0m\n",
            "\u001b[2K   \u001b[90m━━━━━━━━━━━━━━━━━━━━━━━━━━━━━━━━━━━━━━━━\u001b[0m \u001b[32m129.6/129.6 kB\u001b[0m \u001b[31m9.1 MB/s\u001b[0m eta \u001b[36m0:00:00\u001b[0m\n",
            "\u001b[2K   \u001b[90m━━━━━━━━━━━━━━━━━━━━━━━━━━━━━━━━━━━━━━━━\u001b[0m \u001b[32m44.2/44.2 kB\u001b[0m \u001b[31m2.7 MB/s\u001b[0m eta \u001b[36m0:00:00\u001b[0m\n",
            "\u001b[2K   \u001b[90m━━━━━━━━━━━━━━━━━━━━━━━━━━━━━━━━━━━━━━━━\u001b[0m \u001b[32m50.0/50.0 kB\u001b[0m \u001b[31m3.3 MB/s\u001b[0m eta \u001b[36m0:00:00\u001b[0m\n",
            "\u001b[2K   \u001b[90m━━━━━━━━━━━━━━━━━━━━━━━━━━━━━━━━━━━━━━━━\u001b[0m \u001b[32m216.5/216.5 kB\u001b[0m \u001b[31m10.9 MB/s\u001b[0m eta \u001b[36m0:00:00\u001b[0m\n",
            "\u001b[?25h"
          ]
        }
      ],
      "source": [
        "!pip install -q langchain langgraph langchain_groq"
      ]
    },
    {
      "cell_type": "code",
      "source": [
        "from langchain_groq import ChatGroq\n",
        "llm=ChatGroq(model='llama-3.1-8b-instant',api_key='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')"
      ],
      "metadata": {
        "id": "1bxGgsKxLyEm"
      },
      "execution_count": 2,
      "outputs": []
    },
    {
      "cell_type": "markdown",
      "source": [
        "CREATE STATE"
      ],
      "metadata": {
        "id": "ybm6AjnXMjdt"
      }
    },
    {
      "cell_type": "code",
      "source": [
        "from typing import TypedDict\n",
        "class State(TypedDict):\n",
        "  topic:str\n",
        "  story:str\n",
        "  improvised:str\n",
        "  final_story:str\n"
      ],
      "metadata": {
        "id": "b-KXRIrAMlsY"
      },
      "execution_count": 4,
      "outputs": []
    },
    {
      "cell_type": "markdown",
      "source": [
        "CREATE NODE"
      ],
      "metadata": {
        "id": "w4wGBxVVNJkd"
      }
    },
    {
      "cell_type": "code",
      "source": [
        "def generate_story(state:State):\n",
        "  msg=llm.invoke(f\"generate a story on the topic {state['topic']}\").content\n",
        "  return {'story':msg}"
      ],
      "metadata": {
        "id": "aa26RjGJNO6W"
      },
      "execution_count": 8,
      "outputs": []
    },
    {
      "cell_type": "code",
      "source": [
        "def check_valid_story(state:State):\n",
        "  if len(state['story'])<100:\n",
        "    return \"fail\"\n",
        "  return \"pass\""
      ],
      "metadata": {
        "id": "rtnhrFhQOO_B"
      },
      "execution_count": 9,
      "outputs": []
    },
    {
      "cell_type": "code",
      "source": [
        "def improvise_story(state:State):\n",
        "  msg=llm.invoke(f\"Improvise the story {state['story']}\").content\n",
        "  return {'improvised':msg}"
      ],
      "metadata": {
        "id": "oRagm3kXOvnJ"
      },
      "execution_count": 13,
      "outputs": []
    },
    {
      "cell_type": "code",
      "source": [
        "def polish(state:State):\n",
        "  msg=llm.invoke(f\"Give a unexpected End to the story {state['improvised']}\").content\n",
        "  return {'final_story':msg}"
      ],
      "metadata": {
        "id": "2F90E8N2PQaH"
      },
      "execution_count": 20,
      "outputs": []
    },
    {
      "cell_type": "markdown",
      "source": [
        "GRAPH"
      ],
      "metadata": {
        "id": "HGO_SX2KQJnR"
      }
    },
    {
      "cell_type": "code",
      "source": [
        "from langgraph.graph import START,END,StateGraph\n",
        "\n",
        "#Define StateGraph\n",
        "builder=StateGraph(State)\n",
        "#Add nodes\n",
        "builder.add_node(\"generate\",generate_story)\n",
        "builder.add_node(\"improvise\",improvise_story)\n",
        "builder.add_node(\"polish\",polish)\n",
        "#Add edges\n",
        "builder.add_edge(START,\"generate\")\n",
        "builder.add_conditional_edges(\"generate\",check_valid_story,{\"pass\":\"improvise\",\"fail\":\"generate\"})\n",
        "builder.add_edge(\"improvise\",\"polish\")\n",
        "builder.add_edge(\"polish\",END)\n",
        "\n",
        "#Compile\n",
        "graph=builder.compile()"
      ],
      "metadata": {
        "id": "sr1BY_vkQLKd"
      },
      "execution_count": 21,
      "outputs": []
    },
    {
      "cell_type": "code",
      "source": [
        "topic={\"topic\":\"Space and its monsters\"}\n",
        "result=graph.invoke(topic)"
      ],
      "metadata": {
        "id": "6yDCBeauSiUF"
      },
      "execution_count": 22,
      "outputs": []
    },
    {
      "cell_type": "code",
      "source": [
        "result"
      ],
      "metadata": {
        "colab": {
          "base_uri": "https://localhost:8080/"
        },
        "id": "1nYQK9enTUmj",
        "outputId": "05eb89a5-6781-40c9-e5ba-b3e16a895013"
      },
      "execution_count": 23,
      "outputs": [
        {
          "output_type": "execute_result",
          "data": {
            "text/plain": [
              "{'topic': 'Space and its monsters',\n",
              " 'story': '**The Cosmic Quest for Xarath**\\n\\nIn the depths of space, there existed a legendary planet shrouded in mystery and terror. Xarath, a world of eternal darkness, was said to be home to unspeakable creatures that defied the laws of nature. The inhabitants of the cosmos avoided this forsaken place, whispering tales of its monstrous inhabitants to frighten children into behaving.\\n\\nCaptain Jaxon, a seasoned space explorer, had always been drawn to the unknown. He assembled a team of experts, including his trusted first officer, Lieutenant Ava, a brilliant scientist named Dr. Elara, and a gruff but lovable engineer named Gorthok. Their mission was to explore Xarath, to uncover its secrets, and to prove the existence of its fabled monsters.\\n\\nAs they entered Xarath\\'s orbit, the crew was struck by the eerie silence that enveloped the planet. No signs of life, no transmissions, no signals – only an unsettling stillness. Jaxon\\'s team began to deploy their scanning equipment, searching for any signs of the elusive creatures.\\n\\nTheir first discovery was a strange energy signature emanating from a massive, ancient temple on the planet\\'s surface. The team cautiously descended to the temple, armed with an arsenal of high-tech gadgets and a healthy dose of skepticism. As they entered the temple, they were met with an unholy sight: a sprawling chamber filled with an uncountable number of grotesque creatures.\\n\\nThe creatures, known as the Zha\\'thik, were unlike anything the crew had ever seen. They were massive, towering beings with twisted, nightmarish bodies and glowing red eyes. The Zha\\'thik seemed to be drawn to the crew\\'s presence, their eyes locking onto the explorers with an unblinking stare.\\n\\nDr. Elara, ever the scientist, began to analyze the creatures\\' biology, searching for any clues that might explain their existence. Meanwhile, Gorthok and Ava prepared the ship\\'s defenses, anticipating a potential attack. Jaxon, however, felt an inexplicable connection to the Zha\\'thik, as if he had stumbled upon a long-lost relative.\\n\\nAs they delved deeper into the temple, the crew discovered a series of ancient artifacts that hinted at a catastrophic event that had ravaged Xarath, unleashing the Zha\\'thik upon the planet. The creatures, it seemed, were not monsters at all – but rather the survivors of a long-forgotten civilization.\\n\\nThe crew soon realized that the Zha\\'thik were not inherently evil, but rather a twisted manifestation of the planet\\'s own consciousness. Xarath, it seemed, had developed a sentience of its own, a consciousness that had warped and twisted the planet\\'s inhabitants into the monstrous forms they saw before them.\\n\\nAs Jaxon and his team prepared to leave Xarath, they were met with an unexpected surprise: the Zha\\'thik, sensing their departure, began to stir. The creatures, no longer mere beasts, began to communicate with the crew, their twisted forms rearranging themselves into a chilling, yet pitiful, semblance of humanity.\\n\\n\"We are Xarath,\" one of the creatures hissed, its voice like a dying breath. \"We are the cosmos, reborn in darkness. We are the monsters that lurk within every corner of existence.\"\\n\\nAs the crew watched, the Zha\\'thik began to disintegrate, their forms dissipating into the void like wisps of smoke. Jaxon and his team knew that they had uncovered a truth that would shake the foundations of the cosmos: that monsters are not born of darkness, but of the very fabric of existence itself.\\n\\nTheir journey back to civilization was filled with an unshakeable sense of wonder, and a newfound appreciation for the mysteries that lay hidden in the vast expanse of space. The crew of the _Aurora_ knew that they had glimpsed the face of the unknown, and that they would never forget the horrors – and the beauty – of Xarath.',\n",
              " 'improvised': '**The Cosmic Quest for Xarath: The Lost Chronicles**\\n\\nAs the crew of the _Aurora_ returned to the safety of the galaxy, they were hailed as heroes for their groundbreaking discovery on Xarath. However, their journey was not without its costs. The experience had left them all changed, their perspectives forever altered by the horrors and wonders they had encountered.\\n\\nCaptain Jaxon, in particular, struggled to reconcile his newfound understanding of the universe with his own sense of identity. He had always been driven by a desire to explore the unknown, but his encounter with the Zha\\'thik had revealed a deeper connection to the cosmos itself. He began to question whether he was simply a curious explorer, or if he was, in fact, a part of the universe\\'s own experiment.\\n\\nLieutenant Ava, on the other hand, became increasingly fascinated by the implications of Xarath\\'s sentience. She spent countless hours pouring over the _Aurora_\\'s data, searching for any clues that might explain the nature of the planet\\'s consciousness. Her research eventually led her to a shocking discovery: Xarath was not an isolated phenomenon, but rather a symptom of a larger cosmic trend.\\n\\nIt seemed that many planets, galaxies, and even stars were developing sentience, or at least displaying anomalous behavior that hinted at a deeper level of consciousness. Ava\\'s findings sent shockwaves throughout the scientific community, challenging the long-held assumption that the universe was governed solely by physical laws.\\n\\nDr. Elara, meanwhile, became obsessed with the biology of the Zha\\'thik. She spent years studying the creatures\\' twisted forms, searching for any clues that might explain their evolution. Her research eventually led her to a groundbreaking discovery: the Zha\\'thik were not a single species, but rather a collective of interconnected organisms that had evolved to become a single, sentient entity.\\n\\nGorthok, the gruff but lovable engineer, found himself struggling to cope with the moral implications of their discovery. He had always seen himself as a straightforward, no-nonsense kind of guy, but the Zha\\'thik had forced him to confront the harsh realities of existence. He began to question whether it was ever right to interfere with the natural course of events, or if the crew\\'s actions on Xarath had been a gross injustice.\\n\\nAs the years passed, the crew of the _Aurora_ continued to explore the galaxy, seeking out new wonders and uncovering hidden secrets. They knew that their journey had changed them forever, and that they would never look at the universe in the same way again.\\n\\n**The Legacy of Xarath**\\n\\nThe discovery of Xarath\\'s sentience had far-reaching implications for the galaxy. The United Galactic Coalition, the governing body of the cosmos, was forced to re-examine its stance on exploration and colonization. The C.G. realized that its actions had been based on a flawed assumption: that the universe was a vast, uncaring expanse, devoid of consciousness or feeling.\\n\\nAs a result, the C.G. implemented a new policy of caution, urging explorers to exercise greater care when encountering potentially sentient worlds. The galaxy began to shift towards a more nuanced understanding of the cosmos, one that took into account the complexities and mysteries of the universe.\\n\\nThe people of the galaxy learned to approach the unknown with a sense of reverence and awe, recognizing that the universe was a vast, interconnected web of life and consciousness. And Captain Jaxon and his crew, the pioneers of the cosmic quest for Xarath, were hailed as heroes for their bravery and their willingness to confront the unknown.\\n\\n**Epilogue**\\n\\nYears later, a new generation of explorers set out to follow in the footsteps of the _Aurora_\\'s crew. They sailed the cosmos, seeking out new worlds and new wonders. And as they journeyed deeper into the unknown, they carried with them the legacy of Xarath, a reminder that the universe was a vast, mysterious tapestry, woven from the threads of life and consciousness.\\n\\nIn the depths of space, a faint signal echoed through the void, a reminder of the cosmic quest that had begun with the _Aurora_ and would continue forever. The signal was a simple message, one that echoed across the galaxies: \"We are the cosmos, reborn in darkness. We are the monsters that lurk within every corner of existence.\"\\n\\nAnd with that, the journey continued, a never-ending odyssey into the heart of the unknown.',\n",
              " 'final_story': '**The Unexpected End**\\n\\nAs the new generation of explorers ventured deeper into the unknown, they stumbled upon an ancient, long-abandoned city on a distant planet. The city was unlike anything they had ever seen, with structures that defied the laws of physics and architecture that seemed to shift and change before their eyes.\\n\\nAs they explored the city, they discovered a series of cryptic messages etched into the walls. The messages spoke of a being known as \"The Architect,\" who had created the universe and everything in it as a grand experiment.\\n\\nThe crew soon realized that they were not the first to stumble upon this city. In fact, they were not even the first to decipher the messages. A hidden log, buried deep within the city\\'s database, revealed that the _Aurora_\\'s crew had, in fact, succeeded in contacting The Architect.\\n\\nBut that was not the shocking revelation. The crew soon discovered that The Architect was not a being, but a simulation. A vast, cosmic-scale simulation, created to study the evolution of life and consciousness in the universe.\\n\\nThe crew\\'s journey, the discovery of Xarath, the sentience of planets and stars – it was all part of the simulation. The crew was not heroes, but mere characters in a grand experiment. Their actions, their discoveries, their triumphs and their failures – all were mere inputs to the vast, cosmic machine that was The Architect.\\n\\nAs the crew struggled to come to terms with this revelation, the universe around them began to distort and change. The stars shifted, the planets trembled, and the very fabric of space-time began to unravel.\\n\\nThe crew realized that they were being deleted, erased from existence as The Architect rewrote the code of the universe. The signal that echoed through the void, the message that spoke of the cosmos being reborn in darkness – it was not a call to adventure, but a warning that the simulation was ending.\\n\\nAnd with that, the journey of the _Aurora_\\'s crew came to an abrupt end. The universe was rebooted, and a new simulation began. A new generation of explorers, unaware of the events that had transpired, set out to follow in the footsteps of their predecessors. And the cycle continued, forever trapped in the infinite loop of The Architect\\'s grand experiment.'}"
            ]
          },
          "metadata": {},
          "execution_count": 23
        }
      ]
    }
  ]
}